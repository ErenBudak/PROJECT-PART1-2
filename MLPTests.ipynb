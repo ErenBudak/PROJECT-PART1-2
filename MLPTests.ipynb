{
 "cells": [
  {
   "cell_type": "markdown",
   "id": "7b44f7ad",
   "metadata": {},
   "source": [
    "MLP DATASET 1"
   ]
  },
  {
   "cell_type": "code",
   "execution_count": 2,
   "id": "4a74ed04",
   "metadata": {},
   "outputs": [
    {
     "name": "stdout",
     "output_type": "stream",
     "text": [
      "Fitting 3 folds for each of 2268 candidates, totalling 6804 fits\n",
      "   Magnitude   : MSE=0.016, MAE=0.091, R²=-0.680\n",
      "   Depth       : MSE=8.188, MAE=2.371, R²=-0.355\n",
      "   Latitude    : MSE=2.200, MAE=1.202, R²=-0.428\n",
      "   Longitude   : MSE=40.376, MAE=5.353, R²=-1.199\n"
     ]
    },
    {
     "name": "stderr",
     "output_type": "stream",
     "text": [
      "c:\\Users\\eren1\\anaconda3\\Lib\\site-packages\\sklearn\\model_selection\\_search.py:1108: UserWarning: One or more of the test scores are non-finite: [nan nan nan ... nan nan nan]\n",
      "  warnings.warn(\n"
     ]
    }
   ],
   "source": [
    "\n",
    "import numpy as np\n",
    "import pandas as pd\n",
    "from sklearn.metrics import mean_squared_error, mean_absolute_error, r2_score\n",
    "from sklearn.model_selection import GridSearchCV, TimeSeriesSplit\n",
    "%run MLProject.ipynb\n",
    "df = pd.read_csv('usgs_main.csv')\n",
    "df1 = df.copy()\n",
    "df1['time'] = pd.to_datetime(df1['time'])\n",
    "df1 = df1.sort_values('time')\n",
    "df1 = df1.dropna(subset=['latitude','longitude','depth','mag','time'])\n",
    "\n",
    "\n",
    "dfweek_mlp = df1.set_index('time').resample('W').apply({\n",
    "    'mag':'mean',\n",
    "    'latitude':'mean',\n",
    "    'longitude':'mean',\n",
    "    'depth':'mean',\n",
    "    'magType': lambda x: x.mode().iloc[0] if len(x.mode()) > 0 else x.iloc[0],\n",
    "    'type': lambda x: x.mode().iloc[0] if len(x.mode()) > 0 else x.iloc[0],\n",
    "    'status': lambda x: x.mode().iloc[0] if len(x.mode()) > 0 else x.iloc[0],\n",
    "    'net': lambda x: x.mode().iloc[0] if len(x.mode()) > 0 else x.iloc[0]\n",
    "})\n",
    "\n",
    "dfweek_mlp = dfweek_mlp.reset_index(drop=True)\n",
    "dfweek_mlp.index = dfweek_mlp.index + 1\n",
    "dfweek_mlp.index.name = 'timeindex'\n",
    "\n",
    "dfweek_mlp['futuremag'] = dfweek_mlp['mag'].shift(-1)\n",
    "dfweek_mlp['futuredepth'] = dfweek_mlp['depth'].shift(-1)\n",
    "dfweek_mlp['futurelat'] = dfweek_mlp['latitude'].shift(-1)\n",
    "dfweek_mlp['futurelon'] = dfweek_mlp['longitude'].shift(-1)\n",
    "dfweek_mlp = dfweek_mlp.dropna(subset=['futuremag','futuredepth','futurelat','futurelon'])\n",
    "\n",
    "\n",
    "mlp_hiperparametreler = {\n",
    "    'hidden_layer_sizes': [(50,), (100,),(150,), (50, 50), (100, 50),(150,100), (100, 100)],\n",
    "    'activation': ['relu', 'tanh'],\n",
    "    'solver': ['adam', 'lbfgs'],\n",
    "    'alpha': [0.0001, 0.001, 0.01],\n",
    "    'learning_rate_init': [0.001, 0.01, 0.1],\n",
    "    'max_iter': [500, 1000, 1500],\n",
    "    'shiftnum': [2, 3, 4]\n",
    "}\n",
    "\n",
    "\n",
    "train_mlp = dfweek_mlp[:int((4*len(dfweek_mlp))/5)]\n",
    "test_mlp = dfweek_mlp[int(4*len(dfweek_mlp)/5):]\n",
    "\n",
    "\n",
    "splitter_mlp = TimeSeriesSplit(n_splits=3)\n",
    "grid_mlp = GridSearchCV(\n",
    "    estimator=MLPEarthquakePredictor(random_state=42),\n",
    "    param_grid=mlp_hiperparametreler,\n",
    "    cv=splitter_mlp,\n",
    "    scoring='neg_mean_squared_error',\n",
    "    n_jobs=-1,\n",
    "    verbose=1\n",
    ")\n",
    "\n",
    "grid_mlp.fit(train_mlp)\n",
    "best_model_mlp = grid_mlp.best_estimator_\n",
    "\n",
    "test_predictions_mlp = best_model_mlp.predict(test_mlp)\n",
    "test_actual_mlp = test_mlp[['futuremag', 'futuredepth', 'futurelat', 'futurelon']].dropna()\n",
    "min_len_mlp = min(len(test_predictions_mlp), len(test_actual_mlp))\n",
    "\n",
    "\n",
    "target_names = ['futuremag', 'futuredepth', 'futurelat', 'futurelon']\n",
    "target_labels = ['Magnitude', 'Depth', 'Latitude', 'Longitude']\n",
    "\n",
    "for i, (name, label) in enumerate(zip(target_names, target_labels)):\n",
    "    if i < test_predictions_mlp.shape[1] and i < test_actual_mlp.shape[1]:\n",
    "        target_mse = mean_squared_error(\n",
    "            test_actual_mlp.iloc[:min_len_mlp, i], \n",
    "            test_predictions_mlp[:min_len_mlp, i]\n",
    "        )\n",
    "        target_mae = mean_absolute_error(\n",
    "            test_actual_mlp.iloc[:min_len_mlp, i], \n",
    "            test_predictions_mlp[:min_len_mlp, i]\n",
    "        )\n",
    "        target_r2 = r2_score(\n",
    "            test_actual_mlp.iloc[:min_len_mlp, i], \n",
    "            test_predictions_mlp[:min_len_mlp, i]\n",
    "        )\n",
    "        \n",
    "        print(f\"   {label:12}: MSE={target_mse:.3f}, MAE={target_mae:.3f}, R²={target_r2:.3f}\")"
   ]
  },
  {
   "cell_type": "code",
   "execution_count": null,
   "id": "4b364842",
   "metadata": {},
   "outputs": [
    {
     "name": "stdout",
     "output_type": "stream",
     "text": [
      "{'activation': 'relu', 'alpha': 0.0001, 'hidden_layer_sizes': (50,), 'learning_rate_init': 0.001, 'max_iter': 500, 'shiftnum': 2, 'solver': 'adam'}\n"
     ]
    }
   ],
   "source": [
    "\n",
    "import joblib\n",
    "import json\n",
    "import os\n",
    "os.makedirs('models', exist_ok=True)#bu kod bloğunda AI dan nasıl model kaydedilir öğrendim\n",
    "joblib.dump(best_model_mlp, 'models/mlp_dataset1.pkl')\n",
    "print(grid_mlp.best_params_)\n",
    "mlp_best_params = {\n",
    "    'dataset1_params': grid_mlp.best_params_,\n",
    "}\n"
   ]
  },
  {
   "cell_type": "markdown",
   "id": "b84cfc07",
   "metadata": {},
   "source": [
    "MLP DATASET 2"
   ]
  },
  {
   "cell_type": "code",
   "execution_count": 4,
   "id": "941146de",
   "metadata": {},
   "outputs": [
    {
     "name": "stdout",
     "output_type": "stream",
     "text": [
      "Fitting 3 folds for each of 2592 candidates, totalling 7776 fits\n",
      "   Magnitude   : MSE=0.003, MAE=0.046, R²=-10.041\n",
      "   Depth       : MSE=83.883, MAE=7.526, R²=0.257\n",
      "   Latitude    : MSE=21.617, MAE=3.830, R²=-0.853\n",
      "   Longitude   : MSE=567.805, MAE=19.930, R²=-2.208\n"
     ]
    },
    {
     "name": "stderr",
     "output_type": "stream",
     "text": [
      "c:\\Users\\eren1\\anaconda3\\Lib\\site-packages\\sklearn\\model_selection\\_search.py:1108: UserWarning: One or more of the test scores are non-finite: [nan nan nan ... nan nan nan]\n",
      "  warnings.warn(\n"
     ]
    }
   ],
   "source": [
    "pn = pd.read_csv('Significant Earthquake Dataset 1900-2023.csv')\n",
    "df2 = pn.copy()\n",
    "df2 = df2.rename(columns={\n",
    "    'Time':'time', 'Mag':'mag', 'Depth':'depth', \n",
    "    'Latitude':'latitude', 'Longitude':'longitude'\n",
    "})\n",
    "\n",
    "df2['time'] = pd.to_datetime(df2['time'])\n",
    "df2 = df2.sort_values('time')\n",
    "df2 = df2.dropna(subset=['latitude','longitude','depth','mag','time'])\n",
    "\n",
    "\n",
    "dfyear_mlp = df2.set_index('time').resample('YE').apply({\n",
    "    'mag':'mean',\n",
    "    'latitude':'mean',\n",
    "    'longitude':'mean',\n",
    "    'depth':'mean',#daha önce de belirttiğim gibi magtype tarzı değişkenleri oluştururken yapay zeka yardımı aldım\n",
    "    'MagType': lambda x: x.mode().iloc[0] if len(x.mode()) > 0 and len(x) > 0 else 'Unknown',\n",
    "    'Type': lambda x: x.mode().iloc[0] if len(x.mode()) > 0 and len(x) > 0 else 'Unknown',\n",
    "    'status': lambda x: x.mode().iloc[0] if len(x.mode()) > 0 and len(x) > 0 else 'Unknown',\n",
    "    'net': lambda x: x.mode().iloc[0] if len(x.mode()) > 0 and len(x) > 0 else 'Unknown'\n",
    "})\n",
    "\n",
    "dfyear_mlp = dfyear_mlp.rename(columns={'MagType':'magType','Type':'type'})\n",
    "\n",
    "dfyear_mlp = dfyear_mlp.reset_index(drop=True)\n",
    "dfyear_mlp.index = dfyear_mlp.index + 1\n",
    "dfyear_mlp.index.name = 'timeindex'\n",
    "\n",
    "dfyear_mlp['futuremag'] = dfyear_mlp['mag'].shift(-1)\n",
    "dfyear_mlp['futuredepth'] = dfyear_mlp['depth'].shift(-1)\n",
    "dfyear_mlp['futurelat'] = dfyear_mlp['latitude'].shift(-1)\n",
    "dfyear_mlp['futurelon'] = dfyear_mlp['longitude'].shift(-1)\n",
    "dfyear_mlp = dfyear_mlp.dropna(subset=['futuremag','futuredepth','futurelat','futurelon'])\n",
    "\n",
    "mlp_hiperparametreler_2 = {\n",
    "    'hidden_layer_sizes': [(100,), (200,), (100, 50),(200,50) ,(200, 100), (150, 75),(200,75),(150,100)],\n",
    "    'activation': ['relu', 'tanh'],\n",
    "    'solver': ['adam', 'lbfgs'],\n",
    "    'alpha': [0.001, 0.01, 0.1],\n",
    "    'learning_rate_init': [0.001, 0.02, 0.04],\n",
    "    'max_iter': [900, 1750, 2000],\n",
    "    'shiftnum': [3, 4, 5]\n",
    "}\n",
    "\n",
    "train_mlp_2 = dfyear_mlp[:int((4*len(dfyear_mlp))/5)]\n",
    "test_mlp_2 = dfyear_mlp[int(4*len(dfyear_mlp)/5):]\n",
    "\n",
    "splitter_mlp_2 = TimeSeriesSplit(n_splits=3)\n",
    "grid_mlp_2 = GridSearchCV(\n",
    "    estimator=MLPEarthquakePredictor(random_state=42),\n",
    "    param_grid=mlp_hiperparametreler_2,\n",
    "    cv=splitter_mlp_2,\n",
    "    scoring='neg_mean_squared_error',\n",
    "    n_jobs=-1,\n",
    "    verbose=1\n",
    ")\n",
    "\n",
    "grid_mlp_2.fit(train_mlp_2)\n",
    "best_model_mlp_2 = grid_mlp_2.best_estimator_\n",
    "\n",
    "test_predictions_mlp_2 = best_model_mlp_2.predict(test_mlp_2)\n",
    "test_actual_mlp_2 = test_mlp_2[['futuremag', 'futuredepth', 'futurelat', 'futurelon']].dropna()\n",
    "min_len_mlp_2 = min(len(test_predictions_mlp_2), len(test_actual_mlp_2))\n",
    "\n",
    "for i, (name, label) in enumerate(zip(target_names, target_labels)):\n",
    "    if i < test_predictions_mlp_2.shape[1] and i < test_actual_mlp_2.shape[1]:\n",
    "        target_mse = mean_squared_error(\n",
    "            test_actual_mlp_2.iloc[:min_len_mlp_2, i], \n",
    "            test_predictions_mlp_2[:min_len_mlp_2, i]\n",
    "        )\n",
    "        target_mae = mean_absolute_error(\n",
    "            test_actual_mlp_2.iloc[:min_len_mlp_2, i], \n",
    "            test_predictions_mlp_2[:min_len_mlp_2, i]\n",
    "        )\n",
    "        target_r2 = r2_score(\n",
    "            test_actual_mlp_2.iloc[:min_len_mlp_2, i], \n",
    "            test_predictions_mlp_2[:min_len_mlp_2, i]\n",
    "        )\n",
    "        \n",
    "        print(f\"   {label:12}: MSE={target_mse:.3f}, MAE={target_mae:.3f}, R²={target_r2:.3f}\")"
   ]
  },
  {
   "cell_type": "code",
   "execution_count": 13,
   "id": "31e81eaf",
   "metadata": {},
   "outputs": [
    {
     "name": "stdout",
     "output_type": "stream",
     "text": [
      "{'activation': 'relu', 'alpha': 0.001, 'hidden_layer_sizes': (100,), 'learning_rate_init': 0.001, 'max_iter': 900, 'shiftnum': 3, 'solver': 'adam'}\n"
     ]
    }
   ],
   "source": [
    "joblib.dump(best_model_mlp_2, 'models/mlp_dataset2.pkl')\n",
    "mlp_best_params['dataset2_params'] = grid_mlp_2.best_params_\n",
    "print(grid_mlp_2.best_params_)"
   ]
  },
  {
   "cell_type": "markdown",
   "id": "64bb6452",
   "metadata": {},
   "source": [
    "MLP EXTRA-BURADA YILLIK TİMESTEPLER İÇEREN DATASETİ HAFTALIK TİMESTEPLERE BÖLDÜM"
   ]
  },
  {
   "cell_type": "code",
   "execution_count": 6,
   "id": "0ef3ac95",
   "metadata": {},
   "outputs": [
    {
     "name": "stdout",
     "output_type": "stream",
     "text": [
      "Fitting 3 folds for each of 2592 candidates, totalling 7776 fits\n"
     ]
    },
    {
     "name": "stderr",
     "output_type": "stream",
     "text": [
      "c:\\Users\\eren1\\anaconda3\\Lib\\site-packages\\sklearn\\model_selection\\_search.py:1108: UserWarning: One or more of the test scores are non-finite: [nan nan nan ... nan nan nan]\n",
      "  warnings.warn(\n"
     ]
    },
    {
     "name": "stdout",
     "output_type": "stream",
     "text": [
      "   Magnitude   : MSE=0.083, MAE=0.235, R²=-3.049\n",
      "   Depth       : MSE=2567.900, MAE=39.785, R²=-0.032\n",
      "   Latitude    : MSE=168.634, MAE=10.109, R²=0.068\n",
      "   Longitude   : MSE=3678.452, MAE=49.853, R²=-0.252\n"
     ]
    }
   ],
   "source": [
    "extra= pd.read_csv('Significant Earthquake Dataset 1900-2023.csv')\n",
    "df3 = extra.copy()\n",
    "df3 = df3.rename(columns={\n",
    "    'Time':'time', 'Mag':'mag', 'Depth':'depth', \n",
    "    'Latitude':'latitude', 'Longitude':'longitude'\n",
    "})\n",
    "\n",
    "df3['time'] = pd.to_datetime(df3['time'])\n",
    "df3 = df3.sort_values('time')\n",
    "df3 = df3.dropna(subset=['latitude','longitude','depth','mag','time'])\n",
    "\n",
    "\n",
    "dfextra_mlp = df3.set_index('time').resample('W').apply({\n",
    "    'mag':'mean',\n",
    "    'latitude':'mean',\n",
    "    'longitude':'mean',\n",
    "    'depth':'mean',#üsttekiler gibi, aynı şekilde\n",
    "    'MagType': lambda x: x.mode().iloc[0] if len(x.mode()) > 0 and len(x) > 0 else 'Unknown',\n",
    "    'Type': lambda x: x.mode().iloc[0] if len(x.mode()) > 0 and len(x) > 0 else 'Unknown',\n",
    "    'status': lambda x: x.mode().iloc[0] if len(x.mode()) > 0 and len(x) > 0 else 'Unknown',\n",
    "    'net': lambda x: x.mode().iloc[0] if len(x.mode()) > 0 and len(x) > 0 else 'Unknown'\n",
    "})\n",
    "\n",
    "dfextra_mlp = dfextra_mlp.rename(columns={'MagType':'magType','Type':'type'})\n",
    "\n",
    "dfextra_mlp = dfextra_mlp.reset_index(drop=True)\n",
    "dfextra_mlp.index = dfextra_mlp.index + 1\n",
    "dfextra_mlp.index.name = 'timeindex'\n",
    "\n",
    "dfextra_mlp['futuremag'] = dfextra_mlp['mag'].shift(-1)\n",
    "dfextra_mlp['futuredepth'] = dfextra_mlp['depth'].shift(-1)\n",
    "dfextra_mlp['futurelat'] = dfextra_mlp['latitude'].shift(-1)\n",
    "dfextra_mlp['futurelon'] = dfextra_mlp['longitude'].shift(-1)\n",
    "dfextra_mlp = dfextra_mlp.dropna(subset=['futuremag','futuredepth','futurelat','futurelon'])\n",
    "\n",
    "mlp_hiperparametreler_3 = {\n",
    "    'hidden_layer_sizes': [(100,), (200,), (100, 50),(200,50) ,(200, 100), (150, 75),(200,75),(150,100)],\n",
    "    'activation': ['relu', 'tanh'],\n",
    "    'solver': ['adam', 'lbfgs'],\n",
    "    'alpha': [0.001, 0.01, 0.1],\n",
    "    'learning_rate_init': [0.001, 0.02, 0.04],\n",
    "    'max_iter': [900, 1750, 2000],\n",
    "    'shiftnum': [3, 4, 5]\n",
    "}\n",
    "\n",
    "train_mlp_3 = dfextra_mlp[:int((4*len(dfextra_mlp))/5)]\n",
    "test_mlp_3 = dfextra_mlp[int(4*len(dfextra_mlp)/5):]\n",
    "\n",
    "splitter_mlp_3 = TimeSeriesSplit(n_splits=3)\n",
    "grid_mlp_3 = GridSearchCV(\n",
    "    estimator=MLPEarthquakePredictor(random_state=42),\n",
    "    param_grid=mlp_hiperparametreler_3,\n",
    "    cv=splitter_mlp_3,\n",
    "    scoring='neg_mean_squared_error',\n",
    "    n_jobs=-1,\n",
    "    verbose=1\n",
    ")\n",
    "\n",
    "grid_mlp_3.fit(train_mlp_3)\n",
    "best_model_mlp_3 = grid_mlp_3.best_estimator_\n",
    "\n",
    "test_predictions_mlp_3 = best_model_mlp_3.predict(test_mlp_3)\n",
    "test_actual_mlp_3 = test_mlp_3[['futuremag', 'futuredepth', 'futurelat', 'futurelon']].dropna()\n",
    "min_len_mlp_3 = min(len(test_predictions_mlp_3), len(test_actual_mlp_3))\n",
    "\n",
    "for i, (name, label) in enumerate(zip(target_names, target_labels)):\n",
    "    if i < test_predictions_mlp_3.shape[1] and i < test_actual_mlp_3.shape[1]:\n",
    "        target_mse = mean_squared_error(\n",
    "            test_actual_mlp_3.iloc[:min_len_mlp_3, i], \n",
    "            test_predictions_mlp_3[:min_len_mlp_3, i]\n",
    "        )\n",
    "        target_mae = mean_absolute_error(\n",
    "            test_actual_mlp_3.iloc[:min_len_mlp_3, i], \n",
    "            test_predictions_mlp_3[:min_len_mlp_3, i]\n",
    "        )\n",
    "        target_r2 = r2_score(\n",
    "            test_actual_mlp_3.iloc[:min_len_mlp_3, i], \n",
    "            test_predictions_mlp_3[:min_len_mlp_3, i]\n",
    "        )\n",
    "        \n",
    "        print(f\"   {label:12}: MSE={target_mse:.3f}, MAE={target_mae:.3f}, R²={target_r2:.3f}\")"
   ]
  },
  {
   "cell_type": "code",
   "execution_count": 14,
   "id": "7a037329",
   "metadata": {},
   "outputs": [
    {
     "name": "stdout",
     "output_type": "stream",
     "text": [
      "{'activation': 'relu', 'alpha': 0.001, 'hidden_layer_sizes': (100,), 'learning_rate_init': 0.001, 'max_iter': 900, 'shiftnum': 3, 'solver': 'adam'}\n"
     ]
    }
   ],
   "source": [
    "joblib.dump(best_model_mlp_3, 'models/mlp_extra.pkl')\n",
    "mlp_best_params['extra_params'] = grid_mlp_3.best_params_\n",
    "print(grid_mlp_3.best_params_)\n",
    "with open('models/mlp_best_params.json', 'w') as f:\n",
    "    json.dump(mlp_best_params, f, indent=2)"
   ]
  }
 ],
 "metadata": {
  "kernelspec": {
   "display_name": "base",
   "language": "python",
   "name": "python3"
  },
  "language_info": {
   "codemirror_mode": {
    "name": "ipython",
    "version": 3
   },
   "file_extension": ".py",
   "mimetype": "text/x-python",
   "name": "python",
   "nbconvert_exporter": "python",
   "pygments_lexer": "ipython3",
   "version": "3.11.5"
  }
 },
 "nbformat": 4,
 "nbformat_minor": 5
}
